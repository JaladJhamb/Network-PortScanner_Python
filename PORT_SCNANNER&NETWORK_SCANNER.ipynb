{
 "cells": [
  {
   "cell_type": "markdown",
   "metadata": {},
   "source": [
    "### NETWORK SCANNER"
   ]
  },
  {
   "cell_type": "code",
   "execution_count": 1,
   "metadata": {},
   "outputs": [],
   "source": [
    "import socket\n",
    "import os"
   ]
  },
  {
   "cell_type": "code",
   "execution_count": 2,
   "metadata": {},
   "outputs": [
    {
     "name": "stdout",
     "output_type": "stream",
     "text": [
      "\n",
      "ACTIVE IP: 192.168.1.2\n",
      "\n",
      "ACTIVE IP: 192.168.1.3\n",
      "\n",
      "ACTIVE IP: 192.168.1.4\n",
      "\n",
      "ACTIVE IP: 192.168.1.5\n",
      "\n",
      "ACTIVE IP: 192.168.1.6\n",
      "\n",
      "ACTIVE IP: 192.168.1.7\n",
      "\n",
      "ACTIVE IP: 192.168.1.8\n",
      "\n",
      "ACTIVE IP: 192.168.1.9\n",
      "\n",
      "ACTIVE IP: 192.168.1.10\n",
      "\n",
      "ACTIVE IP: 192.168.1.11\n",
      "\n",
      "ACTIVE IP: 192.168.1.12\n",
      "\n",
      "ACTIVE IP: 192.168.1.13\n",
      "\n",
      "ACTIVE IP: 192.168.1.14\n",
      "\n",
      "ACTIVE IP: 192.168.1.15\n",
      "\n",
      "ACTIVE IP: 192.168.1.16\n",
      "\n",
      "ACTIVE IP: 192.168.1.17\n",
      "\n",
      "ACTIVE IP: 192.168.1.18\n",
      "\n",
      "ACTIVE IP: 192.168.1.19\n",
      "\n",
      "ACTIVE IP: 192.168.1.20\n",
      "\n",
      "ACTIVE IP: 192.168.1.21\n",
      "\n",
      "ACTIVE IP: 192.168.1.22\n",
      "\n",
      "ACTIVE IP: 192.168.1.23\n",
      "\n",
      "ACTIVE IP: 192.168.1.24\n"
     ]
    }
   ],
   "source": [
    "network = \"192.168.1\"\n",
    "for i in range(1,25):\n",
    "    ip = network +\".\" +str(i)\n",
    "    out = os.popen(f\"ping {ip}\").read()\n",
    "    if \"unreachable\" not in out:\n",
    "        print(f\"\\nACTIVE IP: {ip}\")"
   ]
  },
  {
   "cell_type": "markdown",
   "metadata": {},
   "source": [
    "### PORT SCANNER"
   ]
  },
  {
   "cell_type": "code",
   "execution_count": 11,
   "metadata": {},
   "outputs": [
    {
     "name": "stdout",
     "output_type": "stream",
     "text": [
      "\n",
      "Active port--->  21\n"
     ]
    }
   ],
   "source": [
    "for i in range(20,30):\n",
    "    server=socket.socket(socket.AF_INET, socket.SOCK_STREAM)\n",
    "    try:\n",
    "        server.connect((\"127.0.0.1\",i))\n",
    "    except Exception as error:\n",
    "        pass\n",
    "    else:\n",
    "        print(\"\\nActive port---> \",i)\n",
    "    "
   ]
  },
  {
   "cell_type": "code",
   "execution_count": 17,
   "metadata": {},
   "outputs": [
    {
     "data": {
      "text/plain": [
       "'\\nPinging 192.168.1.1 with 32 bytes of data:\\nRequest timed out.\\nRequest timed out.\\nRequest timed out.\\nRequest timed out.\\n\\nPing statistics for 192.168.1.1:\\n    Packets: Sent = 4, Received = 0, Lost = 4 (100% loss),\\n'"
      ]
     },
     "execution_count": 17,
     "metadata": {},
     "output_type": "execute_result"
    }
   ],
   "source": [
    "os.popen( \"ping 192.168.1.1\" ).read()"
   ]
  },
  {
   "cell_type": "code",
   "execution_count": null,
   "metadata": {},
   "outputs": [],
   "source": []
  }
 ],
 "metadata": {
  "kernelspec": {
   "display_name": "Python 3",
   "language": "python",
   "name": "python3"
  },
  "language_info": {
   "codemirror_mode": {
    "name": "ipython",
    "version": 3
   },
   "file_extension": ".py",
   "mimetype": "text/x-python",
   "name": "python",
   "nbconvert_exporter": "python",
   "pygments_lexer": "ipython3",
   "version": "3.8.3"
  }
 },
 "nbformat": 4,
 "nbformat_minor": 4
}
